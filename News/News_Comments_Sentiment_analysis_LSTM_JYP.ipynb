{
 "cells": [
  {
   "cell_type": "markdown",
   "id": "59946095-68d5-4849-99b6-e176361b0fe6",
   "metadata": {},
   "source": [
    "# 기사 댓글 감성분석 LSTM 모델 생성 및 감성분석\n",
    "#### 마지막 실행일자 : 23.12.04"
   ]
  },
  {
   "cell_type": "markdown",
   "id": "C5YAhqV6qAIk",
   "metadata": {
    "id": "C5YAhqV6qAIk"
   },
   "source": [
    "# 라이브러리 설치"
   ]
  },
  {
   "cell_type": "code",
   "execution_count": null,
   "id": "x4Gw5TIxN_rz",
   "metadata": {
    "colab": {
     "base_uri": "https://localhost:8080/"
    },
    "executionInfo": {
     "elapsed": 25496,
     "status": "ok",
     "timestamp": 1705216506038,
     "user": {
      "displayName": "박재영",
      "userId": "07996648097590496256"
     },
     "user_tz": -540
    },
    "id": "x4Gw5TIxN_rz",
    "outputId": "6c7b7344-ea53-4794-8438-81690f979523"
   },
   "outputs": [],
   "source": [
    "!pip install update konlpy"
   ]
  },
  {
   "cell_type": "code",
   "execution_count": null,
   "id": "jr-ODvu7OE_6",
   "metadata": {
    "colab": {
     "base_uri": "https://localhost:8080/"
    },
    "executionInfo": {
     "elapsed": 3556,
     "status": "ok",
     "timestamp": 1705216509590,
     "user": {
      "displayName": "박재영",
      "userId": "07996648097590496256"
     },
     "user_tz": -540
    },
    "id": "jr-ODvu7OE_6",
    "outputId": "1223c094-cbce-4182-ce87-98a071f43925"
   },
   "outputs": [],
   "source": [
    "!pip install Okt"
   ]
  },
  {
   "cell_type": "markdown",
   "id": "AAnqk-VJqGz_",
   "metadata": {
    "id": "AAnqk-VJqGz_"
   },
   "source": [
    "# 라이브러리 & 데이터 불러오기"
   ]
  },
  {
   "cell_type": "code",
   "execution_count": null,
   "id": "e4af346a",
   "metadata": {
    "executionInfo": {
     "elapsed": 389,
     "status": "ok",
     "timestamp": 1705216513419,
     "user": {
      "displayName": "박재영",
      "userId": "07996648097590496256"
     },
     "user_tz": -540
    },
    "id": "e4af346a",
    "scrolled": true
   },
   "outputs": [],
   "source": [
    "# 라이브러리 불러오기\n",
    "import pandas as pd\n",
    "import numpy as np\n",
    "from matplotlib import pyplot as plt\n",
    "from konlpy.tag import Okt\n",
    "from google.colab import drive"
   ]
  },
  {
   "cell_type": "code",
   "execution_count": null,
   "id": "9yUBHPUoj5z1",
   "metadata": {
    "colab": {
     "base_uri": "https://localhost:8080/"
    },
    "executionInfo": {
     "elapsed": 16046,
     "status": "ok",
     "timestamp": 1705216530857,
     "user": {
      "displayName": "박재영",
      "userId": "07996648097590496256"
     },
     "user_tz": -540
    },
    "id": "9yUBHPUoj5z1",
    "outputId": "5ea4be7b-4909-4131-b829-8b1b086c620c"
   },
   "outputs": [],
   "source": [
    "# connect google drive\n",
    "from google.colab import drive\n",
    "drive.mount('/content/drive')"
   ]
  },
  {
   "cell_type": "code",
   "execution_count": null,
   "id": "be3330fe",
   "metadata": {
    "executionInfo": {
     "elapsed": 1348,
     "status": "ok",
     "timestamp": 1705216618213,
     "user": {
      "displayName": "박재영",
      "userId": "07996648097590496256"
     },
     "user_tz": -540
    },
    "id": "be3330fe"
   },
   "outputs": [],
   "source": [
    "# 데이터 불러오기\n",
    "train = pd.read_csv(\"/content/drive/MyDrive/Models/train_fin.csv\", index_col=0)\n",
    "test = pd.read_csv(\"/content/drive/MyDrive/Models/test_fin.csv\", index_col=0)\n",
    "new= pd.read_csv(\"/content/drive/MyDrive/Models/네이버_뉴스_댓글.csv\",  encoding='cp949')\n",
    "# df = pd.read_csv(PATH , encoding='cp949', sep='\\t')\n",
    "train.reset_index(inplace=True)\n",
    "test.reset_index(inplace=True)\n",
    "new.reset_index(inplace=True)"
   ]
  },
  {
   "cell_type": "code",
   "execution_count": null,
   "id": "rdHLmqghZHO0",
   "metadata": {
    "colab": {
     "base_uri": "https://localhost:8080/",
     "height": 206
    },
    "executionInfo": {
     "elapsed": 281,
     "status": "ok",
     "timestamp": 1705216621488,
     "user": {
      "displayName": "박재영",
      "userId": "07996648097590496256"
     },
     "user_tz": -540
    },
    "id": "rdHLmqghZHO0",
    "outputId": "5fa9f35b-299c-47a3-d860-77535d20f5df"
   },
   "outputs": [],
   "source": [
    "new.tail()"
   ]
  },
  {
   "cell_type": "code",
   "execution_count": null,
   "id": "ab097669",
   "metadata": {
    "colab": {
     "base_uri": "https://localhost:8080/",
     "height": 206
    },
    "executionInfo": {
     "elapsed": 313,
     "status": "ok",
     "timestamp": 1705216697713,
     "user": {
      "displayName": "박재영",
      "userId": "07996648097590496256"
     },
     "user_tz": -540
    },
    "id": "ab097669",
    "outputId": "69353f4e-d49a-4475-e442-3fdb9da8de0e",
    "scrolled": true
   },
   "outputs": [],
   "source": [
    "# 데이터 확인\n",
    "train.tail()"
   ]
  },
  {
   "cell_type": "code",
   "execution_count": null,
   "id": "98e7ff23",
   "metadata": {
    "colab": {
     "base_uri": "https://localhost:8080/",
     "height": 206
    },
    "executionInfo": {
     "elapsed": 402,
     "status": "ok",
     "timestamp": 1705216699502,
     "user": {
      "displayName": "박재영",
      "userId": "07996648097590496256"
     },
     "user_tz": -540
    },
    "id": "98e7ff23",
    "outputId": "ae94547e-932d-4386-ba5e-d107ad6f728d"
   },
   "outputs": [],
   "source": [
    "# 데이터 확인\n",
    "test.tail()"
   ]
  },
  {
   "cell_type": "markdown",
   "id": "MaSfCrPSqNQu",
   "metadata": {
    "id": "MaSfCrPSqNQu"
   },
   "source": [
    "# 데이터 전처리\n"
   ]
  },
  {
   "cell_type": "markdown",
   "id": "0HJE20q4dXiy",
   "metadata": {
    "id": "0HJE20q4dXiy"
   },
   "source": [
    "## 자연어 정제"
   ]
  },
  {
   "cell_type": "code",
   "execution_count": null,
   "id": "NfE-wsCnj_DK",
   "metadata": {
    "colab": {
     "base_uri": "https://localhost:8080/",
     "height": 206
    },
    "executionInfo": {
     "elapsed": 642,
     "status": "ok",
     "timestamp": 1705216702604,
     "user": {
      "displayName": "박재영",
      "userId": "07996648097590496256"
     },
     "user_tz": -540
    },
    "id": "NfE-wsCnj_DK",
    "outputId": "889fbeca-4ba9-414e-e176-75ef65fbc33b"
   },
   "outputs": [],
   "source": [
    "# 댓글 정제 - 한글 제외 모두 삭제\n",
    "train[\"document\"] = train[\"document\"].str.replace(pat=r'[^\\w!?]', repl=r' ', regex=True)\n",
    "train.head()"
   ]
  },
  {
   "cell_type": "markdown",
   "id": "1ZxkaJ7ITJRA",
   "metadata": {
    "id": "1ZxkaJ7ITJRA"
   },
   "source": [
    "## 결측치 확인, 처리"
   ]
  },
  {
   "cell_type": "code",
   "execution_count": null,
   "id": "q_ZGbB1GZR5M",
   "metadata": {
    "colab": {
     "base_uri": "https://localhost:8080/"
    },
    "executionInfo": {
     "elapsed": 312,
     "status": "ok",
     "timestamp": 1705216705393,
     "user": {
      "displayName": "박재영",
      "userId": "07996648097590496256"
     },
     "user_tz": -540
    },
    "id": "q_ZGbB1GZR5M",
    "outputId": "05faba36-adf9-4fa5-e230-d258b58dc615"
   },
   "outputs": [],
   "source": [
    "# train set 결측치 확인/삭제\n",
    "new.dropna(axis=0, inplace=True)\n",
    "print(new.isnull().sum())"
   ]
  },
  {
   "cell_type": "code",
   "execution_count": null,
   "id": "UUxIeOCSkgun",
   "metadata": {
    "colab": {
     "base_uri": "https://localhost:8080/"
    },
    "executionInfo": {
     "elapsed": 361,
     "status": "ok",
     "timestamp": 1705216707359,
     "user": {
      "displayName": "박재영",
      "userId": "07996648097590496256"
     },
     "user_tz": -540
    },
    "id": "UUxIeOCSkgun",
    "outputId": "691b341c-b28b-4281-c22b-924cfd9ad7e0"
   },
   "outputs": [],
   "source": [
    "# train set 결측치 확인\n",
    "print(train.isnull().sum())\n",
    "print(test.isnull().sum())"
   ]
  },
  {
   "cell_type": "code",
   "execution_count": null,
   "id": "5773a6ac",
   "metadata": {
    "colab": {
     "base_uri": "https://localhost:8080/"
    },
    "executionInfo": {
     "elapsed": 2,
     "status": "ok",
     "timestamp": 1705216708511,
     "user": {
      "displayName": "박재영",
      "userId": "07996648097590496256"
     },
     "user_tz": -540
    },
    "id": "5773a6ac",
    "outputId": "6d597c1f-24d1-48ef-c6b6-2d13286915aa"
   },
   "outputs": [],
   "source": [
    "# train, test set 행/열 확인\n",
    "print(train.shape)\n",
    "print(test.shape)\n",
    "print(new.shape)"
   ]
  },
  {
   "cell_type": "markdown",
   "id": "BtgD6I9rUjQV",
   "metadata": {
    "id": "BtgD6I9rUjQV"
   },
   "source": [
    "## 데이터 EDA (label의 분포 확인)"
   ]
  },
  {
   "cell_type": "code",
   "execution_count": null,
   "id": "9ab4ca09",
   "metadata": {
    "colab": {
     "base_uri": "https://localhost:8080/",
     "height": 448
    },
    "executionInfo": {
     "elapsed": 1751,
     "status": "ok",
     "timestamp": 1705217459008,
     "user": {
      "displayName": "박재영",
      "userId": "07996648097590496256"
     },
     "user_tz": -540
    },
    "id": "9ab4ca09",
    "outputId": "9a3bc4b8-8f92-493b-f09b-96acc7b09cbe",
    "scrolled": true
   },
   "outputs": [],
   "source": [
    "# train의 label 분포\n",
    "train[\"label\"].value_counts().plot(kind=\"bar\")"
   ]
  },
  {
   "cell_type": "code",
   "execution_count": null,
   "id": "VnrwLqQOT-be",
   "metadata": {
    "colab": {
     "base_uri": "https://localhost:8080/",
     "height": 448
    },
    "executionInfo": {
     "elapsed": 694,
     "status": "ok",
     "timestamp": 1705217463712,
     "user": {
      "displayName": "박재영",
      "userId": "07996648097590496256"
     },
     "user_tz": -540
    },
    "id": "VnrwLqQOT-be",
    "outputId": "7eaa29c9-319f-40ae-92d2-a2ec737beb1d"
   },
   "outputs": [],
   "source": [
    "# test의 label 분포\n",
    "test[\"label\"].value_counts().plot(kind=\"bar\")"
   ]
  },
  {
   "cell_type": "markdown",
   "id": "a34DdCaPTEF9",
   "metadata": {
    "id": "a34DdCaPTEF9"
   },
   "source": [
    "# 자연어 처리\n",
    "https://somjang.tistory.com/entry/Keras%EA%B8%B0%EC%82%AC-%EC%A0%9C%EB%AA%A9%EC%9D%84-%EA%B0%80%EC%A7%80%EA%B3%A0-%EA%B8%8D%EC%A0%95-%EB%B6%80%EC%A0%95-%EC%A4%91%EB%A6%BD-%EB%B6%84%EB%A5%98%ED%95%98%EB%8A%94-%EB%AA%A8%EB%8D%B8-%EB%A7%8C%EB%93%A4%EC%96%B4%EB%B3%B4%EA%B8%B0"
   ]
  },
  {
   "cell_type": "code",
   "execution_count": null,
   "id": "FmznQ8q8ZU6a",
   "metadata": {
    "executionInfo": {
     "elapsed": 1,
     "status": "ok",
     "timestamp": 1705216712922,
     "user": {
      "displayName": "박재영",
      "userId": "07996648097590496256"
     },
     "user_tz": -540
    },
    "id": "FmznQ8q8ZU6a"
   },
   "outputs": [],
   "source": [
    "# train/test split\n",
    "X_train = train['document']\n",
    "X_test = test['document']\n",
    "y_train = np.array(train[\"label\"])\n",
    "y_test = np.array(test[\"label\"])"
   ]
  },
  {
   "cell_type": "code",
   "execution_count": null,
   "id": "98J_XIoxD0MI",
   "metadata": {
    "executionInfo": {
     "elapsed": 265,
     "status": "ok",
     "timestamp": 1705216714638,
     "user": {
      "displayName": "박재영",
      "userId": "07996648097590496256"
     },
     "user_tz": -540
    },
    "id": "98J_XIoxD0MI"
   },
   "outputs": [],
   "source": [
    "# 불용어\n",
    "stopwords = ['의', '가', '이', '은', '들', '는', '좀', '잘', '걍', '과', '도', '를', '으로', '자', '에', '와', '한', '하다']"
   ]
  },
  {
   "cell_type": "code",
   "execution_count": null,
   "id": "9UskZUUIEbx6",
   "metadata": {
    "executionInfo": {
     "elapsed": 650641,
     "status": "ok",
     "timestamp": 1705217367088,
     "user": {
      "displayName": "박재영",
      "userId": "07996648097590496256"
     },
     "user_tz": -540
    },
    "id": "9UskZUUIEbx6"
   },
   "outputs": [],
   "source": [
    "# 토큰화\n",
    "import konlpy\n",
    "from konlpy.tag import Okt\n",
    "okt = Okt()\n",
    "X_train = []\n",
    "\n",
    "for sentence in train['document']:\n",
    "  temp_X = []\n",
    "  temp_X = okt.morphs(sentence, stem=True) # 토큰화\n",
    "  temp_X = [word for word in temp_X if not word in stopwords] # 불용어 제거\n",
    "  X_train.append(temp_X)\n",
    "\n",
    "# X_test = []\n",
    "# for sentence in test['document']:\n",
    "#   temp_X = []\n",
    "#   temp_X = okt.morphs(sentence, stem=True) # 토큰화\n",
    "#   temp_X = [word for word in temp_X if not word in stopwords] # 불용어 제거\n",
    "#   X_test.append(temp_X)"
   ]
  },
  {
   "cell_type": "code",
   "execution_count": null,
   "id": "vyDvcMaLZ6sS",
   "metadata": {
    "executionInfo": {
     "elapsed": 10897,
     "status": "ok",
     "timestamp": 1705217382368,
     "user": {
      "displayName": "박재영",
      "userId": "07996648097590496256"
     },
     "user_tz": -540
    },
    "id": "vyDvcMaLZ6sS"
   },
   "outputs": [],
   "source": [
    "X_new = []\n",
    "\n",
    "for sentence in new['Comments']:\n",
    "  temp_X = []\n",
    "  temp_X = okt.morphs(sentence, stem=True) # 토큰화\n",
    "  temp_X = [word for word in temp_X if not word in stopwords] # 불용어 제거\n",
    "  X_new.append(temp_X)"
   ]
  },
  {
   "cell_type": "code",
   "execution_count": null,
   "id": "4gRj0KftEbvg",
   "metadata": {
    "executionInfo": {
     "elapsed": 8554,
     "status": "ok",
     "timestamp": 1705217398609,
     "user": {
      "displayName": "박재영",
      "userId": "07996648097590496256"
     },
     "user_tz": -540
    },
    "id": "4gRj0KftEbvg"
   },
   "outputs": [],
   "source": [
    "# 정수인코딩\n",
    "from keras.preprocessing.text import Tokenizer\n",
    "max_words = 35000\n",
    "tokenizer = Tokenizer(num_words = max_words)\n",
    "tokenizer.fit_on_texts(X_train)\n",
    "X_train = tokenizer.texts_to_sequences(X_train)\n",
    "# X_test = tokenizer.texts_to_sequences(X_test)\n",
    "X_new = tokenizer.texts_to_sequences(X_new)"
   ]
  },
  {
   "cell_type": "code",
   "execution_count": null,
   "id": "T1uDaq5nEbsF",
   "metadata": {
    "colab": {
     "base_uri": "https://localhost:8080/",
     "height": 485
    },
    "executionInfo": {
     "elapsed": 959,
     "status": "ok",
     "timestamp": 1705217471043,
     "user": {
      "displayName": "박재영",
      "userId": "07996648097590496256"
     },
     "user_tz": -540
    },
    "id": "T1uDaq5nEbsF",
    "outputId": "2b0ac958-4493-48ca-dc2c-6721d09e4c9e"
   },
   "outputs": [],
   "source": [
    "# train 데이터 확인\n",
    "print(\"댓글의 최대 길이 : \", max(len(l) for l in X_train))\n",
    "print(\"댓글의 평균 길이 : \", sum(map(len, X_train))/ len(X_train))\n",
    "plt.hist([len(s) for s in X_train], bins=50)\n",
    "plt.xlabel('length of Data')\n",
    "plt.ylabel('number of Data')\n",
    "plt.show()"
   ]
  },
  {
   "cell_type": "code",
   "execution_count": null,
   "id": "NV0s4CwDEboc",
   "metadata": {
    "colab": {
     "base_uri": "https://localhost:8080/",
     "height": 485
    },
    "executionInfo": {
     "elapsed": 877,
     "status": "ok",
     "timestamp": 1705217474207,
     "user": {
      "displayName": "박재영",
      "userId": "07996648097590496256"
     },
     "user_tz": -540
    },
    "id": "NV0s4CwDEboc",
    "outputId": "b6163225-cee2-4262-8ae5-ad2ec003f174"
   },
   "outputs": [],
   "source": [
    "# test 데이터 확인\n",
    "print(\"제목의 최대 길이 : \", max(len(l) for l in X_test))\n",
    "print(\"제목의 평균 길이 : \", sum(map(len, X_test))/ len(X_test))\n",
    "plt.hist([len(s) for s in X_test], bins=50)\n",
    "plt.xlabel('length of Data')\n",
    "plt.ylabel('number of Data')\n",
    "plt.show()"
   ]
  },
  {
   "cell_type": "code",
   "execution_count": null,
   "id": "dFkrJPfEEbkP",
   "metadata": {
    "executionInfo": {
     "elapsed": 1846,
     "status": "ok",
     "timestamp": 1705217480351,
     "user": {
      "displayName": "박재영",
      "userId": "07996648097590496256"
     },
     "user_tz": -540
    },
    "id": "dFkrJPfEEbkP"
   },
   "outputs": [],
   "source": [
    "# 원핫인코딩\n",
    "import numpy as np\n",
    "\n",
    "y_train = []\n",
    "y_test = []\n",
    "\n",
    "for i in range(len(train['label'])):\n",
    "  if train['label'].iloc[i] == 1:\n",
    "    y_train.append([0, 0, 1])\n",
    "  elif train['label'].iloc[i] == 0:\n",
    "    y_train.append([0, 1, 0])\n",
    "  elif train['label'].iloc[i] == -1:\n",
    "    y_train.append([1, 0, 0])\n",
    "\n",
    "# for i in range(len(test['label'])):\n",
    "#   if test['label'].iloc[i] == 1:\n",
    "#     y_test.append([0, 0, 1])\n",
    "#   elif test['label'].iloc[i] == 0:\n",
    "#     y_test.append([0, 1, 0])\n",
    "#   elif test['label'].iloc[i] == -1:\n",
    "#     y_test.append([1, 0, 0])\n",
    "\n",
    "y_train = np.array(y_train)\n",
    "# y_test = np.array(y_test)"
   ]
  },
  {
   "cell_type": "code",
   "execution_count": null,
   "id": "AEPnd8KgEbiK",
   "metadata": {
    "executionInfo": {
     "elapsed": 648,
     "status": "ok",
     "timestamp": 1705217483106,
     "user": {
      "displayName": "박재영",
      "userId": "07996648097590496256"
     },
     "user_tz": -540
    },
    "id": "AEPnd8KgEbiK"
   },
   "outputs": [],
   "source": [
    "# 모델 만들기\n",
    "from keras.layers import Embedding, Dense, LSTM\n",
    "from keras.models import Sequential\n",
    "from tensorflow.keras.preprocessing.sequence import pad_sequences\n",
    "max_len = 20 # 전체 데이터의 길이를 20로 맞춘다\n",
    "\n",
    "X_train = pad_sequences(X_train, maxlen=max_len)\n",
    "# y_train = pad_sequences(y_train, maxlen=max_len)\n",
    "# X_test = pad_sequences(X_test, maxlen=max_len)\n",
    "X_new = pad_sequences(X_new, maxlen=max_len)"
   ]
  },
  {
   "cell_type": "code",
   "execution_count": null,
   "id": "WNUSHIClYQSA",
   "metadata": {
    "colab": {
     "base_uri": "https://localhost:8080/"
    },
    "executionInfo": {
     "elapsed": 4113285,
     "status": "ok",
     "timestamp": 1702733427465,
     "user": {
      "displayName": "박재영",
      "userId": "07996648097590496256"
     },
     "user_tz": -540
    },
    "id": "WNUSHIClYQSA",
    "outputId": "9905da2d-4240-4a40-e2a9-bce74095fd7a"
   },
   "outputs": [],
   "source": [
    "# 모델 만들기\n",
    "model = Sequential()\n",
    "model.add(Embedding(max_words, 100))\n",
    "model.add(LSTM(128))\n",
    "model.add(Dense(3, activation='softmax'))\n",
    "\n",
    "model.compile(optimizer='rmsprop', loss='categorical_crossentropy', metrics=['accuracy'])\n",
    "history = model.fit(X_train, y_train, epochs=10, batch_size=10, validation_split=0.1)"
   ]
  },
  {
   "cell_type": "code",
   "execution_count": null,
   "id": "WFETnno2Nth_",
   "metadata": {
    "colab": {
     "base_uri": "https://localhost:8080/"
    },
    "executionInfo": {
     "elapsed": 277,
     "status": "ok",
     "timestamp": 1702733590168,
     "user": {
      "displayName": "박재영",
      "userId": "07996648097590496256"
     },
     "user_tz": -540
    },
    "id": "WFETnno2Nth_",
    "outputId": "35c61c8b-5141-4e64-c2fa-9e13be612b22"
   },
   "outputs": [],
   "source": [
    "# 모델 저장\n",
    "import joblib  # 모델저장/불러오기\n",
    "joblib.dump(model,'/content/drive/MyDrive/Models/lstm_model_2023.pkl')  #모델저장"
   ]
  },
  {
   "cell_type": "code",
   "execution_count": null,
   "id": "flCZm6r0VCjN",
   "metadata": {
    "executionInfo": {
     "elapsed": 8012,
     "status": "ok",
     "timestamp": 1705216650127,
     "user": {
      "displayName": "박재영",
      "userId": "07996648097590496256"
     },
     "user_tz": -540
    },
    "id": "flCZm6r0VCjN"
   },
   "outputs": [],
   "source": [
    "import joblib  # 모델저장/불러오기\n",
    "model = joblib.load('/content/drive/MyDrive/Models/lstm_model_2023.pkl')   #모델불러오기"
   ]
  },
  {
   "cell_type": "code",
   "execution_count": null,
   "id": "Hx_J5K0aYQNC",
   "metadata": {
    "colab": {
     "base_uri": "https://localhost:8080/"
    },
    "executionInfo": {
     "elapsed": 2570,
     "status": "ok",
     "timestamp": 1705217498892,
     "user": {
      "displayName": "박재영",
      "userId": "07996648097590496256"
     },
     "user_tz": -540
    },
    "id": "Hx_J5K0aYQNC",
    "outputId": "0208a06c-9d61-48fc-9b45-7ebf95b7b60c"
   },
   "outputs": [],
   "source": [
    "# import tensorflow as tf\n",
    "\n",
    "# 예측\n",
    "# predict = model.predict(X_test)\n",
    "# X_new = X_new.astype(np.l)\n",
    "# X_new=np.asarray(X_new).astype(np.float32)\n",
    "predict = model.predict(X_new)"
   ]
  },
  {
   "cell_type": "code",
   "execution_count": null,
   "id": "tfHEJ49sYQLC",
   "metadata": {
    "executionInfo": {
     "elapsed": 237,
     "status": "ok",
     "timestamp": 1705217511059,
     "user": {
      "displayName": "박재영",
      "userId": "07996648097590496256"
     },
     "user_tz": -540
    },
    "id": "tfHEJ49sYQLC"
   },
   "outputs": [],
   "source": [
    "import numpy as np\n",
    "predict_labels = np.argmax(predict, axis=1)\n",
    "# original_labels = np.argmax(y_test, axis=1)"
   ]
  },
  {
   "cell_type": "code",
   "execution_count": null,
   "id": "Az0vv0OExsAZ",
   "metadata": {
    "colab": {
     "base_uri": "https://localhost:8080/"
    },
    "executionInfo": {
     "elapsed": 253,
     "status": "ok",
     "timestamp": 1705217512714,
     "user": {
      "displayName": "박재영",
      "userId": "07996648097590496256"
     },
     "user_tz": -540
    },
    "id": "Az0vv0OExsAZ",
    "outputId": "542d8a8b-5425-46ae-e68c-4f59cd4170a3"
   },
   "outputs": [],
   "source": [
    "predict_labels.shape"
   ]
  },
  {
   "cell_type": "code",
   "execution_count": null,
   "id": "opiHaT3MYaWA",
   "metadata": {
    "colab": {
     "base_uri": "https://localhost:8080/"
    },
    "executionInfo": {
     "elapsed": 1451,
     "status": "ok",
     "timestamp": 1705217518780,
     "user": {
      "displayName": "박재영",
      "userId": "07996648097590496256"
     },
     "user_tz": -540
    },
    "id": "opiHaT3MYaWA",
    "outputId": "b75eb530-c0f5-4eef-ec7e-4e99efb7e522"
   },
   "outputs": [],
   "source": [
    "# # 예측결과\n",
    "# for i in range(30):\n",
    "#   print(\"기사제목 : \", test['document'].iloc[i], \"/\\t 원래 라벨 : \", original_labels[i], \"/\\t예측한 라벨 : \", predict_labels[i])\n",
    "\n",
    "# 예측결과\n",
    "for i in range(len(X_new)):\n",
    "  print(\"기사댓글 : \", new['Comments'].iloc[i], \"/\\t label : \", predict_labels[i])"
   ]
  },
  {
   "cell_type": "code",
   "execution_count": null,
   "id": "YoQwExSNypot",
   "metadata": {
    "executionInfo": {
     "elapsed": 310,
     "status": "ok",
     "timestamp": 1705217521992,
     "user": {
      "displayName": "박재영",
      "userId": "07996648097590496256"
     },
     "user_tz": -540
    },
    "id": "YoQwExSNypot"
   },
   "outputs": [],
   "source": [
    "new.reset_index(inplace=True)"
   ]
  },
  {
   "cell_type": "code",
   "execution_count": null,
   "id": "kcQXP8fvzcHM",
   "metadata": {
    "colab": {
     "base_uri": "https://localhost:8080/"
    },
    "executionInfo": {
     "elapsed": 2,
     "status": "ok",
     "timestamp": 1705217523438,
     "user": {
      "displayName": "박재영",
      "userId": "07996648097590496256"
     },
     "user_tz": -540
    },
    "id": "kcQXP8fvzcHM",
    "outputId": "6fc58736-fdc0-4bb3-dd20-58affc0f5745"
   },
   "outputs": [],
   "source": [
    "predict_labels_df = pd.Series(predict_labels)\n",
    "predict_labels_df"
   ]
  },
  {
   "cell_type": "code",
   "execution_count": null,
   "id": "ByUbcALtyVds",
   "metadata": {
    "colab": {
     "base_uri": "https://localhost:8080/",
     "height": 423
    },
    "executionInfo": {
     "elapsed": 283,
     "status": "ok",
     "timestamp": 1705217526137,
     "user": {
      "displayName": "박재영",
      "userId": "07996648097590496256"
     },
     "user_tz": -540
    },
    "id": "ByUbcALtyVds",
    "outputId": "c27c3c03-8350-4ae2-9dd7-038601d8b3ec"
   },
   "outputs": [],
   "source": [
    "predicted_df = pd.concat([new, predict_labels_df], axis=1)\n",
    "predicted_df"
   ]
  },
  {
   "cell_type": "code",
   "execution_count": null,
   "id": "CfNw-UIm0wYe",
   "metadata": {
    "executionInfo": {
     "elapsed": 246,
     "status": "ok",
     "timestamp": 1705217534526,
     "user": {
      "displayName": "박재영",
      "userId": "07996648097590496256"
     },
     "user_tz": -540
    },
    "id": "CfNw-UIm0wYe"
   },
   "outputs": [],
   "source": [
    "predicted_df.rename(columns = {0 : 'label', 'content':'comment'}, inplace = True)"
   ]
  },
  {
   "cell_type": "code",
   "execution_count": null,
   "id": "t_QghLf-16EN",
   "metadata": {
    "colab": {
     "base_uri": "https://localhost:8080/",
     "height": 206
    },
    "executionInfo": {
     "elapsed": 2,
     "status": "ok",
     "timestamp": 1705217535890,
     "user": {
      "displayName": "박재영",
      "userId": "07996648097590496256"
     },
     "user_tz": -540
    },
    "id": "t_QghLf-16EN",
    "outputId": "9dbac3b9-a7fa-438d-8972-7fbe1a4e2042"
   },
   "outputs": [],
   "source": [
    "predicted_df.head()"
   ]
  },
  {
   "cell_type": "code",
   "execution_count": null,
   "id": "wK7Aw6mxUFvh",
   "metadata": {
    "id": "wK7Aw6mxUFvh"
   },
   "outputs": [],
   "source": [
    "# 1: 1 긍정 0 부정 -1 중립\n",
    "# 1: 부정, 2:긍정, 0 중립"
   ]
  },
  {
   "cell_type": "code",
   "execution_count": null,
   "id": "T5__mG5jUXqd",
   "metadata": {
    "colab": {
     "base_uri": "https://localhost:8080/"
    },
    "executionInfo": {
     "elapsed": 251,
     "status": "ok",
     "timestamp": 1705217539783,
     "user": {
      "displayName": "박재영",
      "userId": "07996648097590496256"
     },
     "user_tz": -540
    },
    "id": "T5__mG5jUXqd",
    "outputId": "34862446-0570-4b34-980e-16291c830ff8"
   },
   "outputs": [],
   "source": [
    "predicted_df['label'].unique()"
   ]
  },
  {
   "cell_type": "code",
   "execution_count": null,
   "id": "ockUxeE42E6Y",
   "metadata": {
    "colab": {
     "base_uri": "https://localhost:8080/",
     "height": 53
    },
    "executionInfo": {
     "elapsed": 288,
     "status": "ok",
     "timestamp": 1705217542347,
     "user": {
      "displayName": "박재영",
      "userId": "07996648097590496256"
     },
     "user_tz": -540
    },
    "id": "ockUxeE42E6Y",
    "outputId": "536d2a40-e5bb-4570-84be-e588c2f6d13f"
   },
   "outputs": [],
   "source": [
    "predicted_df[predicted_df['label']=='-1'].head(20)"
   ]
  },
  {
   "cell_type": "code",
   "execution_count": null,
   "id": "Y6pnhJnM1IpD",
   "metadata": {
    "executionInfo": {
     "elapsed": 401,
     "status": "ok",
     "timestamp": 1705217543644,
     "user": {
      "displayName": "박재영",
      "userId": "07996648097590496256"
     },
     "user_tz": -540
    },
    "id": "Y6pnhJnM1IpD"
   },
   "outputs": [],
   "source": [
    "predicted_df['label'] = predicted_df['label'].replace(0, '-1')"
   ]
  },
  {
   "cell_type": "code",
   "execution_count": null,
   "id": "Sp6W14flPWQr",
   "metadata": {
    "executionInfo": {
     "elapsed": 1,
     "status": "ok",
     "timestamp": 1705217544709,
     "user": {
      "displayName": "박재영",
      "userId": "07996648097590496256"
     },
     "user_tz": -540
    },
    "id": "Sp6W14flPWQr"
   },
   "outputs": [],
   "source": [
    "predicted_df['label'] = predicted_df['label'].replace(1, '0')"
   ]
  },
  {
   "cell_type": "code",
   "execution_count": null,
   "id": "7d6ZHnBpPV4m",
   "metadata": {
    "executionInfo": {
     "elapsed": 1,
     "status": "ok",
     "timestamp": 1705217545636,
     "user": {
      "displayName": "박재영",
      "userId": "07996648097590496256"
     },
     "user_tz": -540
    },
    "id": "7d6ZHnBpPV4m"
   },
   "outputs": [],
   "source": [
    "predicted_df['label'] = predicted_df['label'].replace(2, '1')"
   ]
  },
  {
   "cell_type": "code",
   "execution_count": null,
   "id": "5LzGSGrT3hUU",
   "metadata": {
    "executionInfo": {
     "elapsed": 364,
     "status": "ok",
     "timestamp": 1705217546885,
     "user": {
      "displayName": "박재영",
      "userId": "07996648097590496256"
     },
     "user_tz": -540
    },
    "id": "5LzGSGrT3hUU"
   },
   "outputs": [],
   "source": [
    "predicted_df.drop(labels='index', axis=1, inplace=True)"
   ]
  },
  {
   "cell_type": "code",
   "execution_count": null,
   "id": "HFK-1Rmi30es",
   "metadata": {
    "colab": {
     "base_uri": "https://localhost:8080/",
     "height": 423
    },
    "executionInfo": {
     "elapsed": 253,
     "status": "ok",
     "timestamp": 1705217549720,
     "user": {
      "displayName": "박재영",
      "userId": "07996648097590496256"
     },
     "user_tz": -540
    },
    "id": "HFK-1Rmi30es",
    "outputId": "ab30d53d-be93-47c3-92f9-02cec3b59226"
   },
   "outputs": [],
   "source": [
    "predicted_df"
   ]
  },
  {
   "cell_type": "code",
   "execution_count": null,
   "id": "FntoHHp6pdAK",
   "metadata": {
    "colab": {
     "base_uri": "https://localhost:8080/",
     "height": 769
    },
    "executionInfo": {
     "elapsed": 1353,
     "status": "error",
     "timestamp": 1705217555303,
     "user": {
      "displayName": "박재영",
      "userId": "07996648097590496256"
     },
     "user_tz": -540
    },
    "id": "FntoHHp6pdAK",
    "outputId": "cd4f021e-686c-45b2-d04e-f90f6529452a"
   },
   "outputs": [],
   "source": [
    "# 테스트 정확도\n",
    "print('테스트 정확도: {:.2f}%'.format(model.evaluate(X_test, y_test)[1]*100))"
   ]
  },
  {
   "cell_type": "code",
   "execution_count": null,
   "id": "rEXITFV_qX5U",
   "metadata": {
    "executionInfo": {
     "elapsed": 239,
     "status": "ok",
     "timestamp": 1705217574165,
     "user": {
      "displayName": "박재영",
      "userId": "07996648097590496256"
     },
     "user_tz": -540
    },
    "id": "rEXITFV_qX5U"
   },
   "outputs": [],
   "source": [
    "# 엑셀 저장\n",
    "# predicted_df = pd.concat({'document':test['document'], 'actual':pd.Series(original_labels), 'predicted': pd.Series(predict_labels)}, axis=1)\n",
    "\n",
    "predicted_df.to_csv('/content/drive/MyDrive/Models/네이버_뉴스_댓글_감성분석추가.csv', encoding='utf-8-sig')"
   ]
  },
  {
   "cell_type": "code",
   "execution_count": null,
   "id": "S6ZEIFhm4FBN",
   "metadata": {
    "id": "S6ZEIFhm4FBN"
   },
   "outputs": [],
   "source": []
  }
 ],
 "metadata": {
  "accelerator": "TPU",
  "colab": {
   "provenance": []
  },
  "kernelspec": {
   "display_name": "Python 3 (ipykernel)",
   "language": "python",
   "name": "python3"
  },
  "language_info": {
   "codemirror_mode": {
    "name": "ipython",
    "version": 3
   },
   "file_extension": ".py",
   "mimetype": "text/x-python",
   "name": "python",
   "nbconvert_exporter": "python",
   "pygments_lexer": "ipython3",
   "version": "3.12.2"
  }
 },
 "nbformat": 4,
 "nbformat_minor": 5
}
