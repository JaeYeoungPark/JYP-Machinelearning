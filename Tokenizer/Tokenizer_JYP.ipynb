{
 "cells": [
  {
   "cell_type": "markdown",
   "id": "c2207a8d-1bb2-4aa8-a921-c8a81e0ba80d",
   "metadata": {},
   "source": [
    "# 전체 문장 토큰화\n",
    "#### 마지막 실행일자 : 24.03.14"
   ]
  },
  {
   "cell_type": "code",
   "execution_count": null,
   "id": "25adb18f-7903-467d-9be7-03b10fb6f1f9",
   "metadata": {
    "colab": {
     "base_uri": "https://localhost:8080/"
    },
    "executionInfo": {
     "elapsed": 13512,
     "status": "ok",
     "timestamp": 1709907428984,
     "user": {
      "displayName": "박재영",
      "userId": "07996648097590496256"
     },
     "user_tz": -540
    },
    "id": "25adb18f-7903-467d-9be7-03b10fb6f1f9",
    "outputId": "66a96794-ae68-45a6-e192-a1089caa8741"
   },
   "outputs": [],
   "source": [
    "!pip install pandas nltk"
   ]
  },
  {
   "cell_type": "code",
   "execution_count": null,
   "id": "HFkBayeNbRDT",
   "metadata": {
    "colab": {
     "base_uri": "https://localhost:8080/"
    },
    "executionInfo": {
     "elapsed": 19693,
     "status": "ok",
     "timestamp": 1709907470499,
     "user": {
      "displayName": "박재영",
      "userId": "07996648097590496256"
     },
     "user_tz": -540
    },
    "id": "HFkBayeNbRDT",
    "outputId": "18d762a7-4006-420f-afcc-3554e2a554eb"
   },
   "outputs": [],
   "source": [
    "# connect google drive\n",
    "from google.colab import drive\n",
    "drive.mount('/content/drive')"
   ]
  },
  {
   "cell_type": "code",
   "execution_count": null,
   "id": "b8c529ab-cfdc-40f8-bd90-9847d9fef8b7",
   "metadata": {
    "id": "b8c529ab-cfdc-40f8-bd90-9847d9fef8b7"
   },
   "outputs": [],
   "source": [
    "import pandas as pd\n",
    "from nltk.tokenize import word_tokenize\n",
    "import nltk\n",
    "nltk.download('punkt')\n",
    "\n",
    "# 엑셀 파일 경로 설정\n",
    "excel_file_path = 'Downloads/Workspace/CSV_File/네이버_뉴스_댓글.csv'\n",
    "# 읽어올 시트 이름 설정\n",
    "sheet_name = 'Comments'\n",
    "\n",
    "# 엑셀 파일 불러오기\n",
    "df = pd.read_excel(excel_file_path, sheet_name=sheet_name)\n",
    "\n",
    "# 문장을 단어로 쪼개는 함수 정의\n",
    "def tokenize_sentence(sentence):\n",
    "    words = word_tokenize(sentence)\n",
    "    return words\n",
    "\n",
    "# 각 행에 대해 문장을 단어로 쪼개기\n",
    "df['Tokenized'] = df['ColumnName'].apply(tokenize_sentence)\n",
    "\n",
    "# 새로운 엑셀 파일 경로 설정\n",
    "output_excel_path = 'output_file.xlsx'\n",
    "\n",
    "# 수정된 DataFrame을 엑셀 파일로 저장\n",
    "df.to_excel(output_excel_path, index=False)\n",
    "\n",
    "print(f\"Modified data saved to {output_excel_path}\")"
   ]
  }
 ],
 "metadata": {
  "colab": {
   "provenance": []
  },
  "kernelspec": {
   "display_name": "Python 3 (ipykernel)",
   "language": "python",
   "name": "python3"
  },
  "language_info": {
   "codemirror_mode": {
    "name": "ipython",
    "version": 3
   },
   "file_extension": ".py",
   "mimetype": "text/x-python",
   "name": "python",
   "nbconvert_exporter": "python",
   "pygments_lexer": "ipython3",
   "version": "3.12.2"
  }
 },
 "nbformat": 4,
 "nbformat_minor": 5
}
